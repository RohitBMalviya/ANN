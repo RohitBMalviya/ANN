{
 "cells": [
  {
   "cell_type": "code",
   "execution_count": 3,
   "id": "721bf80e",
   "metadata": {},
   "outputs": [
    {
     "name": "stdout",
     "output_type": "stream",
     "text": [
      "Downloading http://yann.lecun.com/exdb/mnist/train-images-idx3-ubyte.gz\n",
      "Downloading http://yann.lecun.com/exdb/mnist/train-images-idx3-ubyte.gz to ./data\\MNIST\\raw\\train-images-idx3-ubyte.gz\n"
     ]
    },
    {
     "name": "stderr",
     "output_type": "stream",
     "text": [
      "100%|███████████████████████████████████████████████████████████████████| 9912422/9912422 [00:01<00:00, 8023119.94it/s]\n"
     ]
    },
    {
     "name": "stdout",
     "output_type": "stream",
     "text": [
      "Extracting ./data\\MNIST\\raw\\train-images-idx3-ubyte.gz to ./data\\MNIST\\raw\n",
      "\n",
      "Downloading http://yann.lecun.com/exdb/mnist/train-labels-idx1-ubyte.gz\n",
      "Downloading http://yann.lecun.com/exdb/mnist/train-labels-idx1-ubyte.gz to ./data\\MNIST\\raw\\train-labels-idx1-ubyte.gz\n"
     ]
    },
    {
     "name": "stderr",
     "output_type": "stream",
     "text": [
      "100%|████████████████████████████████████████████████████████████████████████████████████| 28881/28881 [00:00<?, ?it/s]"
     ]
    },
    {
     "name": "stdout",
     "output_type": "stream",
     "text": [
      "Extracting ./data\\MNIST\\raw\\train-labels-idx1-ubyte.gz to ./data\\MNIST\\raw\n",
      "\n",
      "Downloading http://yann.lecun.com/exdb/mnist/t10k-images-idx3-ubyte.gz\n"
     ]
    },
    {
     "name": "stderr",
     "output_type": "stream",
     "text": [
      "\n"
     ]
    },
    {
     "name": "stdout",
     "output_type": "stream",
     "text": [
      "Downloading http://yann.lecun.com/exdb/mnist/t10k-images-idx3-ubyte.gz to ./data\\MNIST\\raw\\t10k-images-idx3-ubyte.gz\n"
     ]
    },
    {
     "name": "stderr",
     "output_type": "stream",
     "text": [
      "100%|██████████████████████████████████████████████████████████████████| 1648877/1648877 [00:00<00:00, 10971631.95it/s]"
     ]
    },
    {
     "name": "stdout",
     "output_type": "stream",
     "text": [
      "Extracting ./data\\MNIST\\raw\\t10k-images-idx3-ubyte.gz to ./data\\MNIST\\raw\n"
     ]
    },
    {
     "name": "stderr",
     "output_type": "stream",
     "text": [
      "\n"
     ]
    },
    {
     "name": "stdout",
     "output_type": "stream",
     "text": [
      "\n",
      "Downloading http://yann.lecun.com/exdb/mnist/t10k-labels-idx1-ubyte.gz\n",
      "Downloading http://yann.lecun.com/exdb/mnist/t10k-labels-idx1-ubyte.gz to ./data\\MNIST\\raw\\t10k-labels-idx1-ubyte.gz\n"
     ]
    },
    {
     "name": "stderr",
     "output_type": "stream",
     "text": [
      "100%|██████████████████████████████████████████████████████████████████████████████████████| 4542/4542 [00:00<?, ?it/s]\n"
     ]
    },
    {
     "name": "stdout",
     "output_type": "stream",
     "text": [
      "Extracting ./data\\MNIST\\raw\\t10k-labels-idx1-ubyte.gz to ./data\\MNIST\\raw\n",
      "\n",
      "Epoch [1/5], Step [100/938], Loss: 0.3842\n",
      "Epoch [1/5], Step [200/938], Loss: 0.2397\n",
      "Epoch [1/5], Step [300/938], Loss: 0.2968\n",
      "Epoch [1/5], Step [400/938], Loss: 0.1012\n",
      "Epoch [1/5], Step [500/938], Loss: 0.1595\n",
      "Epoch [1/5], Step [600/938], Loss: 0.0418\n",
      "Epoch [1/5], Step [700/938], Loss: 0.0721\n",
      "Epoch [1/5], Step [800/938], Loss: 0.0407\n",
      "Epoch [1/5], Step [900/938], Loss: 0.1230\n",
      "Epoch [2/5], Step [100/938], Loss: 0.0413\n",
      "Epoch [2/5], Step [200/938], Loss: 0.1218\n",
      "Epoch [2/5], Step [300/938], Loss: 0.1241\n",
      "Epoch [2/5], Step [400/938], Loss: 0.1407\n",
      "Epoch [2/5], Step [500/938], Loss: 0.1703\n",
      "Epoch [2/5], Step [600/938], Loss: 0.0243\n",
      "Epoch [2/5], Step [700/938], Loss: 0.0420\n",
      "Epoch [2/5], Step [800/938], Loss: 0.0158\n",
      "Epoch [2/5], Step [900/938], Loss: 0.2391\n",
      "Epoch [3/5], Step [100/938], Loss: 0.0106\n",
      "Epoch [3/5], Step [200/938], Loss: 0.0962\n",
      "Epoch [3/5], Step [300/938], Loss: 0.0791\n",
      "Epoch [3/5], Step [400/938], Loss: 0.0215\n",
      "Epoch [3/5], Step [500/938], Loss: 0.0426\n",
      "Epoch [3/5], Step [600/938], Loss: 0.0123\n",
      "Epoch [3/5], Step [700/938], Loss: 0.0200\n",
      "Epoch [3/5], Step [800/938], Loss: 0.0330\n",
      "Epoch [3/5], Step [900/938], Loss: 0.1048\n",
      "Epoch [4/5], Step [100/938], Loss: 0.0243\n",
      "Epoch [4/5], Step [200/938], Loss: 0.0119\n",
      "Epoch [4/5], Step [300/938], Loss: 0.0274\n",
      "Epoch [4/5], Step [400/938], Loss: 0.0234\n",
      "Epoch [4/5], Step [500/938], Loss: 0.0304\n",
      "Epoch [4/5], Step [600/938], Loss: 0.1178\n",
      "Epoch [4/5], Step [700/938], Loss: 0.0234\n",
      "Epoch [4/5], Step [800/938], Loss: 0.0884\n",
      "Epoch [4/5], Step [900/938], Loss: 0.0210\n",
      "Epoch [5/5], Step [100/938], Loss: 0.1627\n",
      "Epoch [5/5], Step [200/938], Loss: 0.0185\n",
      "Epoch [5/5], Step [300/938], Loss: 0.0423\n",
      "Epoch [5/5], Step [400/938], Loss: 0.0250\n",
      "Epoch [5/5], Step [500/938], Loss: 0.0065\n",
      "Epoch [5/5], Step [600/938], Loss: 0.0341\n",
      "Epoch [5/5], Step [700/938], Loss: 0.0172\n",
      "Epoch [5/5], Step [800/938], Loss: 0.0214\n",
      "Epoch [5/5], Step [900/938], Loss: 0.0558\n",
      "Test Accuracy of the model on the 10000 test images: 98.75 %\n"
     ]
    }
   ],
   "source": [
    "import torch\n",
    "import torch.nn as nn\n",
    "import torch.optim as optim\n",
    "import torchvision.datasets as datasets\n",
    "import torchvision.transforms as transforms\n",
    "\n",
    "num_epochs = 5\n",
    "batch_size = 64\n",
    "learning_rate = 0.001\n",
    "\n",
    "class CNN(nn.Module):\n",
    "    def __init__(self):\n",
    "        super(CNN, self).__init__()\n",
    "        self.conv1 = nn.Conv2d(in_channels=1, out_channels=16, kernel_size=3, stride=1, padding=1)\n",
    "        self.relu1 = nn.ReLU()\n",
    "        self.pool1 = nn.MaxPool2d(kernel_size=2, stride=2)\n",
    "        self.conv2 = nn.Conv2d(in_channels=16, out_channels=32, kernel_size=3, stride=1, padding=1)\n",
    "        self.relu2 = nn.ReLU()\n",
    "        self.pool2 = nn.MaxPool2d(kernel_size=2, stride=2)\n",
    "        self.fc1 = nn.Linear(in_features=7*7*32, out_features=10)\n",
    "\n",
    "    def forward(self, x):\n",
    "        x = self.conv1(x)\n",
    "        x = self.relu1(x)\n",
    "        x = self.pool1(x)\n",
    "        x = self.conv2(x)\n",
    "        x = self.relu2(x)\n",
    "        x = self.pool2(x)\n",
    "        x = x.view(-1, 7*7*32)\n",
    "        x = self.fc1(x)\n",
    "        return x\n",
    "\n",
    "train_dataset = datasets.MNIST(root='./data', train=True, transform=transforms.ToTensor(), download=True)\n",
    "test_dataset = datasets.MNIST(root='./data', train=False, transform=transforms.ToTensor())\n",
    "\n",
    "train_loader = torch.utils.data.DataLoader(dataset=train_dataset, batch_size=batch_size, shuffle=True)\n",
    "test_loader = torch.utils.data.DataLoader(dataset=test_dataset, batch_size=batch_size, shuffle=False)\n",
    "\n",
    "model = CNN()\n",
    "criterion = nn.CrossEntropyLoss()\n",
    "optimizer = optim.Adam(model.parameters(), lr=learning_rate)\n",
    "\n",
    "for epoch in range(num_epochs):\n",
    "    for i, (images, labels) in enumerate(train_loader):\n",
    "        outputs = model(images)\n",
    "        loss = criterion(outputs, labels)\n",
    "\n",
    "        optimizer.zero_grad()\n",
    "        loss.backward()\n",
    "        optimizer.step()\n",
    "\n",
    "        if (i+1) % 100 == 0:\n",
    "            print('Epoch [{}/{}], Step [{}/{}], Loss: {:.4f}'\n",
    "                  .format(epoch+1, num_epochs, i+1, len(train_loader), loss.item()))\n",
    "\n",
    "with torch.no_grad():\n",
    "    correct = 0\n",
    "    total = 0\n",
    "    for images, labels in test_loader:\n",
    "        outputs = model(images)\n",
    "        _, predicted = torch.max(outputs.data, 1)\n",
    "        total += labels.size(0)\n",
    "        correct += (predicted == labels).sum().item()\n",
    "\n",
    "    print('Test Accuracy of the model on the 10000 test images: {} %'.format(100 * correct / total))\n",
    "\n",
    "torch.save(model.state_dict(), 'cnn.ckpt')\n"
   ]
  },
  {
   "cell_type": "code",
   "execution_count": null,
   "id": "4d7f8ff9",
   "metadata": {},
   "outputs": [],
   "source": []
  }
 ],
 "metadata": {
  "kernelspec": {
   "display_name": "Python 3 (ipykernel)",
   "language": "python",
   "name": "python3"
  },
  "language_info": {
   "codemirror_mode": {
    "name": "ipython",
    "version": 3
   },
   "file_extension": ".py",
   "mimetype": "text/x-python",
   "name": "python",
   "nbconvert_exporter": "python",
   "pygments_lexer": "ipython3",
   "version": "3.10.6"
  }
 },
 "nbformat": 4,
 "nbformat_minor": 5
}
