{
 "cells": [
  {
   "cell_type": "code",
   "execution_count": 3,
   "id": "cf277c71",
   "metadata": {},
   "outputs": [
    {
     "name": "stdout",
     "output_type": "stream",
     "text": [
      "Input vector:  [1 0 0 1]\n",
      "Output vector:  [1 1]\n",
      "New input vector:  [ 1  1  1 -1]\n"
     ]
    }
   ],
   "source": [
    "import numpy as np\n",
    "\n",
    "input1 = np.array([1, 0, 1, 0])\n",
    "output1 = np.array([0, 1])\n",
    "\n",
    "input2 = np.array([1, 1, 0, 0])\n",
    "output2 = np.array([1, 0])\n",
    "\n",
    "W = np.outer(output1, input1) + np.outer(output2, input2)\n",
    "\n",
    "def f(x):\n",
    "    return 1 if x > 0 else -1\n",
    "\n",
    "def g(x):\n",
    "    return 1 if x >= 0 else -1\n",
    "\n",
    "def BAM(input_vec):\n",
    "    y = np.dot(W, input_vec)\n",
    "    output_vec = np.array([g(x) for x in y])\n",
    "    x = np.dot(W.T, output_vec)\n",
    "    input_vec = np.array([f(x) for x in x])\n",
    "    return input_vec, output_vec\n",
    "\n",
    "input_vec = np.array([1, 0, 0, 1])\n",
    "input_vec_new, output_vec = BAM(input_vec)\n",
    "\n",
    "print(\"Input vector: \", input_vec)\n",
    "print(\"Output vector: \", output_vec)\n",
    "print(\"New input vector: \", input_vec_new)"
   ]
  }
 ],
 "metadata": {
  "kernelspec": {
   "display_name": "Python 3 (ipykernel)",
   "language": "python",
   "name": "python3"
  },
  "language_info": {
   "codemirror_mode": {
    "name": "ipython",
    "version": 3
   },
   "file_extension": ".py",
   "mimetype": "text/x-python",
   "name": "python",
   "nbconvert_exporter": "python",
   "pygments_lexer": "ipython3",
   "version": "3.10.6"
  }
 },
 "nbformat": 4,
 "nbformat_minor": 5
}
