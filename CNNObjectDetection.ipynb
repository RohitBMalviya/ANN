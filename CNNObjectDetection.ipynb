{
 "cells": [
  {
   "cell_type": "code",
   "execution_count": 3,
   "id": "6ddebd29",
   "metadata": {},
   "outputs": [
    {
     "name": "stdout",
     "output_type": "stream",
     "text": [
      "Downloading data from https://www.cs.toronto.edu/~kriz/cifar-10-python.tar.gz\n",
      "170498071/170498071 [==============================] - 64s 0us/step\n",
      "Epoch 1/10\n",
      "782/782 [==============================] - 73s 90ms/step - loss: 0.2767 - accuracy: 0.9006 - precision: 0.5615 - recall: 0.0292 - val_loss: 0.2428 - val_accuracy: 0.9096 - val_precision: 0.6171 - val_recall: 0.2530\n",
      "Epoch 2/10\n",
      "782/782 [==============================] - 67s 86ms/step - loss: 0.2276 - accuracy: 0.9154 - precision: 0.6990 - recall: 0.2708 - val_loss: 0.2107 - val_accuracy: 0.9200 - val_precision: 0.7415 - val_recall: 0.3070\n",
      "Epoch 3/10\n",
      "782/782 [==============================] - 69s 88ms/step - loss: 0.2025 - accuracy: 0.9241 - precision: 0.7262 - recall: 0.3872 - val_loss: 0.2097 - val_accuracy: 0.9223 - val_precision: 0.7767 - val_recall: 0.3130\n",
      "Epoch 4/10\n",
      "782/782 [==============================] - 66s 84ms/step - loss: 0.1838 - accuracy: 0.9310 - precision: 0.7535 - recall: 0.4604 - val_loss: 0.1978 - val_accuracy: 0.9264 - val_precision: 0.6630 - val_recall: 0.5370\n",
      "Epoch 5/10\n",
      "782/782 [==============================] - 64s 82ms/step - loss: 0.1660 - accuracy: 0.9375 - precision: 0.7717 - recall: 0.5326 - val_loss: 0.1931 - val_accuracy: 0.9277 - val_precision: 0.7034 - val_recall: 0.4790\n",
      "Epoch 6/10\n",
      "782/782 [==============================] - 64s 82ms/step - loss: 0.1458 - accuracy: 0.9444 - precision: 0.7972 - recall: 0.5952 - val_loss: 0.1973 - val_accuracy: 0.9311 - val_precision: 0.7579 - val_recall: 0.4570\n",
      "Epoch 7/10\n",
      "782/782 [==============================] - 1753s 2s/step - loss: 0.1309 - accuracy: 0.9493 - precision: 0.8106 - recall: 0.6428 - val_loss: 0.1957 - val_accuracy: 0.9323 - val_precision: 0.7252 - val_recall: 0.5200\n",
      "Epoch 8/10\n",
      "782/782 [==============================] - 45s 57ms/step - loss: 0.1116 - accuracy: 0.9575 - precision: 0.8403 - recall: 0.7102 - val_loss: 0.2278 - val_accuracy: 0.9315 - val_precision: 0.7933 - val_recall: 0.4260\n",
      "Epoch 9/10\n",
      "782/782 [==============================] - 48s 62ms/step - loss: 0.0929 - accuracy: 0.9640 - precision: 0.8623 - recall: 0.7616 - val_loss: 0.2238 - val_accuracy: 0.9310 - val_precision: 0.7327 - val_recall: 0.4880\n",
      "Epoch 10/10\n",
      "782/782 [==============================] - 48s 61ms/step - loss: 0.0757 - accuracy: 0.9707 - precision: 0.8859 - recall: 0.8120 - val_loss: 0.2235 - val_accuracy: 0.9314 - val_precision: 0.6733 - val_recall: 0.6100\n",
      "157/157 [==============================] - 3s 19ms/step - loss: 0.2235 - accuracy: 0.9314 - precision: 0.6733 - recall: 0.6100\n",
      "Test loss, Test accuracy, Test precision, Test recall: [0.22345466911792755, 0.9314000010490417, 0.6732891798019409, 0.6100000143051147]\n"
     ]
    }
   ],
   "source": [
    "import numpy as np\n",
    "import tensorflow as tf\n",
    "from tensorflow.keras import Model\n",
    "from tensorflow.keras.layers import Conv2D, MaxPooling2D, Dense, Flatten, Input\n",
    "\n",
    "def create_model():\n",
    "    input_tensor = Input(shape=(32, 32, 3))\n",
    "    x = Conv2D(32, (3, 3), activation='relu', padding='same')(input_tensor)\n",
    "    x = MaxPooling2D((2, 2))(x)\n",
    "    x = Conv2D(64, (3, 3), activation='relu', padding='same')(x)\n",
    "    x = MaxPooling2D((2, 2))(x)\n",
    "    x = Conv2D(128, (3, 3), activation='relu', padding='same')(x)\n",
    "    x = MaxPooling2D((2, 2))(x)\n",
    "    x = Flatten()(x)\n",
    "    x = Dense(256, activation='relu')(x)\n",
    "    x = Dense(1, activation='sigmoid')(x)\n",
    "    model = Model(inputs=input_tensor, outputs=x)\n",
    "    return model\n",
    "\n",
    "(X_train, y_train), (X_test, y_test) = tf.keras.datasets.cifar10.load_data()\n",
    "\n",
    "X_train = X_train / 255.0\n",
    "X_test = X_test / 255.0\n",
    "\n",
    "y_train = (y_train == 2).astype(int)\n",
    "y_test = (y_test == 2).astype(int)\n",
    "\n",
    "model = create_model()\n",
    "\n",
    "model.compile(optimizer='adam', loss='binary_crossentropy', metrics=['accuracy', tf.keras.metrics.Precision(), tf.keras.metrics.Recall()])\n",
    "\n",
    "model.fit(X_train, y_train, epochs=10, batch_size=64, validation_data=(X_test, y_test))\n",
    "\n",
    "results = model.evaluate(X_test, y_test, batch_size=64)\n",
    "print(\"Test loss, Test accuracy, Test precision, Test recall:\", results)\n"
   ]
  }
 ],
 "metadata": {
  "kernelspec": {
   "display_name": "Python 3 (ipykernel)",
   "language": "python",
   "name": "python3"
  },
  "language_info": {
   "codemirror_mode": {
    "name": "ipython",
    "version": 3
   },
   "file_extension": ".py",
   "mimetype": "text/x-python",
   "name": "python",
   "nbconvert_exporter": "python",
   "pygments_lexer": "ipython3",
   "version": "3.10.6"
  }
 },
 "nbformat": 4,
 "nbformat_minor": 5
}
